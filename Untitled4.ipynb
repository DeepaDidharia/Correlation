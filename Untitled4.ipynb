{
  "nbformat": 4,
  "nbformat_minor": 0,
  "metadata": {
    "colab": {
      "name": "Untitled4.ipynb",
      "provenance": [],
      "authorship_tag": "ABX9TyMirt0YP1QDbX1pq2Hxw2EJ",
      "include_colab_link": true
    },
    "kernelspec": {
      "name": "python3",
      "display_name": "Python 3"
    },
    "language_info": {
      "name": "python"
    }
  },
  "cells": [
    {
      "cell_type": "markdown",
      "metadata": {
        "id": "view-in-github",
        "colab_type": "text"
      },
      "source": [
        "<a href=\"https://colab.research.google.com/github/DeepaDidharia/Correlation/blob/main/Untitled4.ipynb\" target=\"_parent\"><img src=\"https://colab.research.google.com/assets/colab-badge.svg\" alt=\"Open In Colab\"/></a>"
      ]
    },
    {
      "cell_type": "code",
      "execution_count": 2,
      "metadata": {
        "colab": {
          "base_uri": "https://localhost:8080/"
        },
        "id": "DE1V3xzwP3mg",
        "outputId": "73826990-064b-40c2-dd54-744e5c1cb609"
      },
      "outputs": [
        {
          "output_type": "stream",
          "name": "stdout",
          "text": [
            "Correlation between Student Marks and Days present:  0.86288947614385\n"
          ]
        }
      ],
      "source": [
        "import csv\n",
        "import numpy as np\n",
        "\n",
        "def getDataSource(data_path):\n",
        "  marks_in_percentage = []\n",
        "  days_present = []\n",
        "  with open(data_path) as csv_file:\n",
        "    csv_reader = csv.DictReader(csv_file)\n",
        "    for row in csv_reader:\n",
        "      marks_in_percentage.append(float(row[\"Marks In Percentage\"]))\n",
        "      days_present.append(float(row[\"Days Present\"]))\n",
        "\n",
        "    return {\"x\": marks_in_percentage ,\"y\": days_present}\n",
        "\n",
        "def findCorrelation(datasource):\n",
        "  correlation = np.corrcoef(datasource[\"x\"], datasource[\"y\"])\n",
        "  print(\"Correlation between Student Marks and Days present: \", correlation[0,1])\n",
        "\n",
        "data_path= \"Student Marks vs Days Present.csv\"\n",
        "datasource= getDataSource(data_path)\n",
        "findCorrelation(datasource)"
      ]
    },
    {
      "cell_type": "code",
      "source": [
        "import csv\n",
        "import numpy as np\n",
        "\n",
        "def getDataSource(data_path):\n",
        "  coffee_in_ml = []\n",
        "  sleep_in_hours = []\n",
        "  with open(data_path) as csv_file:\n",
        "    csv_reader = csv.DictReader(csv_file)\n",
        "    for row in csv_reader:\n",
        "      coffee_in_ml.append(float(row[\"Coffee in ml\"]))\n",
        "      sleep_in_hours.append(float(row[\"sleep in hours\"]))\n",
        "\n",
        "    return {\"x\": coffee_in_ml ,\"y\": sleep_in_hours}\n",
        "\n",
        "def findCorrelation(datasource):\n",
        "  correlation = np.corrcoef(datasource[\"x\"], datasource[\"y\"])\n",
        "  print(\"Correlation between Coffee in ml and Hopurs of sleep: \", correlation[0,1])\n",
        "\n",
        "data_path= \"cups of coffee vs hours of sleep.csv\"\n",
        "datasource= getDataSource(data_path)\n",
        "findCorrelation(datasource)"
      ],
      "metadata": {
        "colab": {
          "base_uri": "https://localhost:8080/"
        },
        "id": "wjIFSczXTQEJ",
        "outputId": "27caef01-1e65-481e-e379-63454121177b"
      },
      "execution_count": 3,
      "outputs": [
        {
          "output_type": "stream",
          "name": "stdout",
          "text": [
            "Correlation between Coffee in ml and Hopurs of sleep:  -0.9630614686000525\n"
          ]
        }
      ]
    }
  ]
}